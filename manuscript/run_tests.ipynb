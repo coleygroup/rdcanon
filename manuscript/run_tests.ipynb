{
 "cells": [
  {
   "cell_type": "code",
   "execution_count": 1,
   "metadata": {},
   "outputs": [
    {
     "name": "stdout",
     "output_type": "stream",
     "text": [
      "/Users/bmahjour/Documents/projects2023/202401/rdcanon_proj/rdcanon\n",
      "[3.1239510000000053, 2.7537260000000288]\n"
     ]
    }
   ],
   "source": [
    "from rdcanon import tests\n",
    "\n",
    "tests.run_all_unit_tests()"
   ]
  },
  {
   "cell_type": "code",
   "execution_count": 9,
   "metadata": {},
   "outputs": [
    {
     "name": "stdout",
     "output_type": "stream",
     "text": [
      "DOUBLE\n",
      "SINGLE should be unspecified\n",
      "SINGLE should be unspecified\n",
      "DOUBLE\n"
     ]
    },
    {
     "name": "stderr",
     "output_type": "stream",
     "text": [
      "Atoms:\n",
      "\t0 6 C chg: 0  deg: 2 exp: 2 imp: 0 hyb: 0 arom?: 0 chi: 0\n",
      "\t1 8 O chg: 0  deg: 1 exp: 2 imp: 0 hyb: 0 arom?: 0 chi: 0\n",
      "\t2 8 O chg: 0  deg: 2 exp: 0 imp: 0 hyb: 0 arom?: 0 chi: 0\n",
      "\t3 6 C chg: 0  deg: 2 exp: 2 imp: 0 hyb: 0 arom?: 0 chi: 0\n",
      "\t4 8 O chg: 0  deg: 1 exp: 2 imp: 0 hyb: 0 arom?: 0 chi: 0\n",
      "Bonds:\n",
      "\t0 0->1 order: 2 conj?: 0 aromatic?: 0\n",
      "\t1 0->2 order: 1 conj?: 0 aromatic?: 0\n",
      "\t2 2->3 order: 1 conj?: 0 aromatic?: 0\n",
      "\t3 3->4 order: 2 conj?: 0 aromatic?: 0\n"
     ]
    }
   ],
   "source": [
    "from rdkit import Chem\n",
    "\n",
    "smarts = \"[#6&X3](=[O&X1])[#8&X2][#6&X3]=[O&X1]\"\n",
    "mol1 = Chem.MolFromSmarts(smarts)\n",
    "Chem.SanitizeMol(mol1, sanitizeOps=Chem.SanitizeFlags.SANITIZE_NONE)\n",
    "\n",
    "amol = Chem.MolFromSmarts(\"C:C\")\n",
    "abond = amol.GetBondWithIdx(0)\n",
    "\n",
    "smol = Chem.MolFromSmarts(\"C-C\")\n",
    "sbond = smol.GetBondWithIdx(0)\n",
    "\n",
    "for qbond in mol1.GetBonds():\n",
    "    if qbond:\n",
    "        if qbond.Match(abond) and qbond.Match(sbond):\n",
    "            print(qbond.GetBondType(), \"should be unspecified\")\n",
    "        else:\n",
    "            print(qbond.GetBondType())\n",
    "\n",
    "\n",
    "mol1.Debug()"
   ]
  }
 ],
 "metadata": {
  "kernelspec": {
   "display_name": ".venv",
   "language": "python",
   "name": "python3"
  },
  "language_info": {
   "codemirror_mode": {
    "name": "ipython",
    "version": 3
   },
   "file_extension": ".py",
   "mimetype": "text/x-python",
   "name": "python",
   "nbconvert_exporter": "python",
   "pygments_lexer": "ipython3",
   "version": "3.11.6"
  }
 },
 "nbformat": 4,
 "nbformat_minor": 2
}
